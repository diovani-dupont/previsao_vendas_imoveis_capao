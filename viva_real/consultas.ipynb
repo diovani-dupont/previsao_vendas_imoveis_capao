{
 "cells": [
  {
   "cell_type": "code",
   "execution_count": 5,
   "outputs": [],
   "source": [
    "import time\n",
    "\n",
    "from selenium import webdriver\n",
    "from bs4 import BeautifulSoup\n",
    "from webdriver_manager.chrome import ChromeDriverManager\n",
    "from selenium.webdriver.chrome.service import Service"
   ],
   "metadata": {
    "collapsed": false
   }
  },
  {
   "cell_type": "code",
   "execution_count": 6,
   "outputs": [
    {
     "name": "stdout",
     "output_type": "stream",
     "text": [
      "Total de resultados com selenium:  6.166 \n"
     ]
    }
   ],
   "source": [
    "options = Service(ChromeDriverManager().install())\n",
    "driver = webdriver.Chrome(\"chromedriver\", service=options)\n",
    "\n",
    "url = \"https://www.vivareal.com.br/venda/rio-grande-do-sul/capao-da-canoa/apartamento_residencial/?pagina=1\"\n",
    "\n",
    "driver.implicitly_wait(30)\n",
    "driver.get(url)\n",
    "driver.maximize_window()\n",
    "\n",
    "soup = BeautifulSoup(driver.page_source, 'html.parser')\n",
    "total = soup.find('strong', {'class' : 'results-summary__count js-total-records'})\n",
    "print(\"Total de resultados com selenium:\", total.string)\n",
    "time.sleep(5)\n",
    "driver.quit()"
   ],
   "metadata": {
    "collapsed": false
   }
  },
  {
   "cell_type": "code",
   "execution_count": 6,
   "outputs": [],
   "source": [],
   "metadata": {
    "collapsed": false
   }
  }
 ],
 "metadata": {
  "kernelspec": {
   "display_name": "Python 3",
   "language": "python",
   "name": "python3"
  },
  "language_info": {
   "codemirror_mode": {
    "name": "ipython",
    "version": 2
   },
   "file_extension": ".py",
   "mimetype": "text/x-python",
   "name": "python",
   "nbconvert_exporter": "python",
   "pygments_lexer": "ipython2",
   "version": "2.7.6"
  }
 },
 "nbformat": 4,
 "nbformat_minor": 0
}
