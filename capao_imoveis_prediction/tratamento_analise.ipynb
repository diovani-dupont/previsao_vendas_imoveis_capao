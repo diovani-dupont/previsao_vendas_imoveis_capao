{
 "cells": [
  {
   "cell_type": "code",
   "execution_count": 1,
   "metadata": {
    "collapsed": true
   },
   "outputs": [],
   "source": [
    "import numpy as np\n",
    "import pandas as pd\n",
    "import matplotlib.pyplot as plt\n",
    "import seaborn as sns\n",
    "import warnings"
   ]
  },
  {
   "cell_type": "code",
   "execution_count": 2,
   "outputs": [],
   "source": [
    "df = pd.read_csv(\"capao2022.csv\")"
   ],
   "metadata": {
    "collapsed": false
   }
  },
  {
   "cell_type": "code",
   "execution_count": 3,
   "outputs": [
    {
     "data": {
      "text/plain": "    Unnamed: 0                                    Título  \\\n0            0  Apartamento com 4 Quartos à Venda, 191m²   \n1            1  Apartamento com 3 Quartos à Venda, 103m²   \n2            2     Apartamento com  Quarto à Venda, 55m²   \n3            3   Apartamento com 2 Quartos à Venda, 64m²   \n4            4  Apartamento com 3 Quartos à Venda, 171m²   \n..         ...                                       ...   \n95          95     Apartamento com  Quarto à Venda, 55m²   \n96          96   Apartamento com 2 Quartos à Venda, 99m²   \n97          97   Apartamento com 2 Quartos à Venda, 60m²   \n98          98   Apartamento com 2 Quartos à Venda, 80m²   \n99          99   Apartamento com 2 Quartos à Venda, 99m²   \n\n                  Endereço Número      Bairro          Cidade Estado  Área  \\\n0        Avenida Beira Mar    823   Zona Nova  Capão da Canoa     RS   191   \n1   Avenida Venâncio Aíres    N/I   Zona Nova  Capão da Canoa     RS   103   \n2                      N/I    N/I  Capao Novo  Capão da Canoa     RS    55   \n3                      N/I    N/I         N/I  Capão da Canoa     RS    64   \n4     Rua Guilherme Gutman   1249      Centro  Capão da Canoa     RS   171   \n..                     ...    ...         ...             ...    ...   ...   \n95              Rua Marabá   1524      Centro  Capão da Canoa     RS    55   \n96             Rua Guaraci   2280      Centro  Capão da Canoa     RS    99   \n97                     N/I    N/I   Zona Nova  Capão da Canoa     RS    60   \n98            Avenida Rudá    214      Centro  Capão da Canoa     RS    80   \n99              Rua Moacir    N/I      Centro  Capão da Canoa     RS    99   \n\n    Quartos  Banheiros Vagas  \\\n0         4          4     2   \n1         3          3     2   \n2         1          1     1   \n3         2          2     1   \n4         3          3     1   \n..      ...        ...   ...   \n95        1          1     1   \n96        2          2     1   \n97        2          2     1   \n98        2          2     1   \n99        2          2     1   \n\n                                                Preço  \n0                                        R$ 1.200.000  \n1                                          R$ 795.000  \n2                                          R$ 169.500  \n3                                          R$ 265.000  \n4                                          R$ 850.000  \n..                                                ...  \n95                                         R$ 335.000  \n96  R$ 490.000\\n                        \\nPreço ab...  \n97                                         R$ 380.000  \n98                                         R$ 440.000  \n99  R$ 490.000\\n                        \\nPreço ab...  \n\n[100 rows x 12 columns]",
      "text/html": "<div>\n<style scoped>\n    .dataframe tbody tr th:only-of-type {\n        vertical-align: middle;\n    }\n\n    .dataframe tbody tr th {\n        vertical-align: top;\n    }\n\n    .dataframe thead th {\n        text-align: right;\n    }\n</style>\n<table border=\"1\" class=\"dataframe\">\n  <thead>\n    <tr style=\"text-align: right;\">\n      <th></th>\n      <th>Unnamed: 0</th>\n      <th>Título</th>\n      <th>Endereço</th>\n      <th>Número</th>\n      <th>Bairro</th>\n      <th>Cidade</th>\n      <th>Estado</th>\n      <th>Área</th>\n      <th>Quartos</th>\n      <th>Banheiros</th>\n      <th>Vagas</th>\n      <th>Preço</th>\n    </tr>\n  </thead>\n  <tbody>\n    <tr>\n      <th>0</th>\n      <td>0</td>\n      <td>Apartamento com 4 Quartos à Venda, 191m²</td>\n      <td>Avenida Beira Mar</td>\n      <td>823</td>\n      <td>Zona Nova</td>\n      <td>Capão da Canoa</td>\n      <td>RS</td>\n      <td>191</td>\n      <td>4</td>\n      <td>4</td>\n      <td>2</td>\n      <td>R$ 1.200.000</td>\n    </tr>\n    <tr>\n      <th>1</th>\n      <td>1</td>\n      <td>Apartamento com 3 Quartos à Venda, 103m²</td>\n      <td>Avenida Venâncio Aíres</td>\n      <td>N/I</td>\n      <td>Zona Nova</td>\n      <td>Capão da Canoa</td>\n      <td>RS</td>\n      <td>103</td>\n      <td>3</td>\n      <td>3</td>\n      <td>2</td>\n      <td>R$ 795.000</td>\n    </tr>\n    <tr>\n      <th>2</th>\n      <td>2</td>\n      <td>Apartamento com  Quarto à Venda, 55m²</td>\n      <td>N/I</td>\n      <td>N/I</td>\n      <td>Capao Novo</td>\n      <td>Capão da Canoa</td>\n      <td>RS</td>\n      <td>55</td>\n      <td>1</td>\n      <td>1</td>\n      <td>1</td>\n      <td>R$ 169.500</td>\n    </tr>\n    <tr>\n      <th>3</th>\n      <td>3</td>\n      <td>Apartamento com 2 Quartos à Venda, 64m²</td>\n      <td>N/I</td>\n      <td>N/I</td>\n      <td>N/I</td>\n      <td>Capão da Canoa</td>\n      <td>RS</td>\n      <td>64</td>\n      <td>2</td>\n      <td>2</td>\n      <td>1</td>\n      <td>R$ 265.000</td>\n    </tr>\n    <tr>\n      <th>4</th>\n      <td>4</td>\n      <td>Apartamento com 3 Quartos à Venda, 171m²</td>\n      <td>Rua Guilherme Gutman</td>\n      <td>1249</td>\n      <td>Centro</td>\n      <td>Capão da Canoa</td>\n      <td>RS</td>\n      <td>171</td>\n      <td>3</td>\n      <td>3</td>\n      <td>1</td>\n      <td>R$ 850.000</td>\n    </tr>\n    <tr>\n      <th>...</th>\n      <td>...</td>\n      <td>...</td>\n      <td>...</td>\n      <td>...</td>\n      <td>...</td>\n      <td>...</td>\n      <td>...</td>\n      <td>...</td>\n      <td>...</td>\n      <td>...</td>\n      <td>...</td>\n      <td>...</td>\n    </tr>\n    <tr>\n      <th>95</th>\n      <td>95</td>\n      <td>Apartamento com  Quarto à Venda, 55m²</td>\n      <td>Rua Marabá</td>\n      <td>1524</td>\n      <td>Centro</td>\n      <td>Capão da Canoa</td>\n      <td>RS</td>\n      <td>55</td>\n      <td>1</td>\n      <td>1</td>\n      <td>1</td>\n      <td>R$ 335.000</td>\n    </tr>\n    <tr>\n      <th>96</th>\n      <td>96</td>\n      <td>Apartamento com 2 Quartos à Venda, 99m²</td>\n      <td>Rua Guaraci</td>\n      <td>2280</td>\n      <td>Centro</td>\n      <td>Capão da Canoa</td>\n      <td>RS</td>\n      <td>99</td>\n      <td>2</td>\n      <td>2</td>\n      <td>1</td>\n      <td>R$ 490.000\\n                        \\nPreço ab...</td>\n    </tr>\n    <tr>\n      <th>97</th>\n      <td>97</td>\n      <td>Apartamento com 2 Quartos à Venda, 60m²</td>\n      <td>N/I</td>\n      <td>N/I</td>\n      <td>Zona Nova</td>\n      <td>Capão da Canoa</td>\n      <td>RS</td>\n      <td>60</td>\n      <td>2</td>\n      <td>2</td>\n      <td>1</td>\n      <td>R$ 380.000</td>\n    </tr>\n    <tr>\n      <th>98</th>\n      <td>98</td>\n      <td>Apartamento com 2 Quartos à Venda, 80m²</td>\n      <td>Avenida Rudá</td>\n      <td>214</td>\n      <td>Centro</td>\n      <td>Capão da Canoa</td>\n      <td>RS</td>\n      <td>80</td>\n      <td>2</td>\n      <td>2</td>\n      <td>1</td>\n      <td>R$ 440.000</td>\n    </tr>\n    <tr>\n      <th>99</th>\n      <td>99</td>\n      <td>Apartamento com 2 Quartos à Venda, 99m²</td>\n      <td>Rua Moacir</td>\n      <td>N/I</td>\n      <td>Centro</td>\n      <td>Capão da Canoa</td>\n      <td>RS</td>\n      <td>99</td>\n      <td>2</td>\n      <td>2</td>\n      <td>1</td>\n      <td>R$ 490.000\\n                        \\nPreço ab...</td>\n    </tr>\n  </tbody>\n</table>\n<p>100 rows × 12 columns</p>\n</div>"
     },
     "execution_count": 3,
     "metadata": {},
     "output_type": "execute_result"
    }
   ],
   "source": [
    "df.head(100)"
   ],
   "metadata": {
    "collapsed": false
   }
  },
  {
   "cell_type": "code",
   "execution_count": 4,
   "outputs": [
    {
     "data": {
      "text/plain": "(6168, 12)"
     },
     "execution_count": 4,
     "metadata": {},
     "output_type": "execute_result"
    }
   ],
   "source": [
    "df.shape"
   ],
   "metadata": {
    "collapsed": false
   }
  },
  {
   "cell_type": "code",
   "execution_count": 5,
   "outputs": [
    {
     "data": {
      "text/plain": "Index(['Unnamed: 0', 'Título', 'Endereço', 'Número', 'Bairro', 'Cidade',\n       'Estado', 'Área', 'Quartos', 'Banheiros', 'Vagas', 'Preço'],\n      dtype='object')"
     },
     "execution_count": 5,
     "metadata": {},
     "output_type": "execute_result"
    }
   ],
   "source": [
    "df.columns"
   ],
   "metadata": {
    "collapsed": false
   }
  },
  {
   "cell_type": "code",
   "execution_count": 6,
   "outputs": [],
   "source": [
    "df1 = df.rename(columns={'Unnamed: 0':'ITEM', 'Título':'DESCRICAO', 'Endereço':'ENDERECO', 'Número':'NUMERO', 'Bairro':'BAIRRO', 'Cidade':'CIDADE', 'Estado':'ESTADO', 'Área':'AREA', 'Quartos':'QUARTOS', 'Banheiros':'BANHEIROS', 'Vagas':'VAGAS', 'Preço':'PRECO'})"
   ],
   "metadata": {
    "collapsed": false
   }
  },
  {
   "cell_type": "code",
   "execution_count": 7,
   "outputs": [
    {
     "name": "stdout",
     "output_type": "stream",
     "text": [
      "<class 'pandas.core.frame.DataFrame'>\n",
      "RangeIndex: 6168 entries, 0 to 6167\n",
      "Data columns (total 12 columns):\n",
      " #   Column     Non-Null Count  Dtype \n",
      "---  ------     --------------  ----- \n",
      " 0   ITEM       6168 non-null   int64 \n",
      " 1   DESCRICAO  6168 non-null   object\n",
      " 2   ENDERECO   6168 non-null   object\n",
      " 3   NUMERO     6168 non-null   object\n",
      " 4   BAIRRO     6168 non-null   object\n",
      " 5   CIDADE     6168 non-null   object\n",
      " 6   ESTADO     6168 non-null   object\n",
      " 7   AREA       6168 non-null   int64 \n",
      " 8   QUARTOS    6168 non-null   int64 \n",
      " 9   BANHEIROS  6168 non-null   int64 \n",
      " 10  VAGAS      6168 non-null   object\n",
      " 11  PRECO      6168 non-null   object\n",
      "dtypes: int64(4), object(8)\n",
      "memory usage: 578.4+ KB\n"
     ]
    }
   ],
   "source": [
    "df1.info()"
   ],
   "metadata": {
    "collapsed": false
   }
  },
  {
   "cell_type": "code",
   "execution_count": 8,
   "outputs": [],
   "source": [
    "df1['VAGAS'] = pd.to_numeric(df1['VAGAS'], errors='coerce')"
   ],
   "metadata": {
    "collapsed": false
   }
  },
  {
   "cell_type": "code",
   "execution_count": 9,
   "outputs": [
    {
     "name": "stdout",
     "output_type": "stream",
     "text": [
      "<class 'pandas.core.frame.DataFrame'>\n",
      "RangeIndex: 6168 entries, 0 to 6167\n",
      "Data columns (total 12 columns):\n",
      " #   Column     Non-Null Count  Dtype  \n",
      "---  ------     --------------  -----  \n",
      " 0   ITEM       6168 non-null   int64  \n",
      " 1   DESCRICAO  6168 non-null   object \n",
      " 2   ENDERECO   6168 non-null   object \n",
      " 3   NUMERO     6168 non-null   object \n",
      " 4   BAIRRO     6168 non-null   object \n",
      " 5   CIDADE     6168 non-null   object \n",
      " 6   ESTADO     6168 non-null   object \n",
      " 7   AREA       6168 non-null   int64  \n",
      " 8   QUARTOS    6168 non-null   int64  \n",
      " 9   BANHEIROS  6168 non-null   int64  \n",
      " 10  VAGAS      5827 non-null   float64\n",
      " 11  PRECO      6168 non-null   object \n",
      "dtypes: float64(1), int64(4), object(7)\n",
      "memory usage: 578.4+ KB\n"
     ]
    }
   ],
   "source": [
    "df1.info()"
   ],
   "metadata": {
    "collapsed": false
   }
  },
  {
   "cell_type": "code",
   "execution_count": 10,
   "outputs": [
    {
     "data": {
      "text/plain": "    ITEM                                 DESCRICAO                ENDERECO  \\\n0      0  Apartamento com 4 Quartos à Venda, 191m²       Avenida Beira Mar   \n1      1  Apartamento com 3 Quartos à Venda, 103m²  Avenida Venâncio Aíres   \n2      2     Apartamento com  Quarto à Venda, 55m²                     N/I   \n3      3   Apartamento com 2 Quartos à Venda, 64m²                     N/I   \n4      4  Apartamento com 3 Quartos à Venda, 171m²    Rua Guilherme Gutman   \n..   ...                                       ...                     ...   \n95    95     Apartamento com  Quarto à Venda, 55m²              Rua Marabá   \n96    96   Apartamento com 2 Quartos à Venda, 99m²             Rua Guaraci   \n97    97   Apartamento com 2 Quartos à Venda, 60m²                     N/I   \n98    98   Apartamento com 2 Quartos à Venda, 80m²            Avenida Rudá   \n99    99   Apartamento com 2 Quartos à Venda, 99m²              Rua Moacir   \n\n   NUMERO      BAIRRO          CIDADE ESTADO  AREA  QUARTOS  BANHEIROS  VAGAS  \\\n0     823   Zona Nova  Capão da Canoa     RS   191        4          4    2.0   \n1     N/I   Zona Nova  Capão da Canoa     RS   103        3          3    2.0   \n2     N/I  Capao Novo  Capão da Canoa     RS    55        1          1    1.0   \n3     N/I         N/I  Capão da Canoa     RS    64        2          2    1.0   \n4    1249      Centro  Capão da Canoa     RS   171        3          3    1.0   \n..    ...         ...             ...    ...   ...      ...        ...    ...   \n95   1524      Centro  Capão da Canoa     RS    55        1          1    1.0   \n96   2280      Centro  Capão da Canoa     RS    99        2          2    1.0   \n97    N/I   Zona Nova  Capão da Canoa     RS    60        2          2    1.0   \n98    214      Centro  Capão da Canoa     RS    80        2          2    1.0   \n99    N/I      Centro  Capão da Canoa     RS    99        2          2    1.0   \n\n                                                PRECO  \n0                                        R$ 1.200.000  \n1                                          R$ 795.000  \n2                                          R$ 169.500  \n3                                          R$ 265.000  \n4                                          R$ 850.000  \n..                                                ...  \n95                                         R$ 335.000  \n96  R$ 490.000\\n                        \\nPreço ab...  \n97                                         R$ 380.000  \n98                                         R$ 440.000  \n99  R$ 490.000\\n                        \\nPreço ab...  \n\n[100 rows x 12 columns]",
      "text/html": "<div>\n<style scoped>\n    .dataframe tbody tr th:only-of-type {\n        vertical-align: middle;\n    }\n\n    .dataframe tbody tr th {\n        vertical-align: top;\n    }\n\n    .dataframe thead th {\n        text-align: right;\n    }\n</style>\n<table border=\"1\" class=\"dataframe\">\n  <thead>\n    <tr style=\"text-align: right;\">\n      <th></th>\n      <th>ITEM</th>\n      <th>DESCRICAO</th>\n      <th>ENDERECO</th>\n      <th>NUMERO</th>\n      <th>BAIRRO</th>\n      <th>CIDADE</th>\n      <th>ESTADO</th>\n      <th>AREA</th>\n      <th>QUARTOS</th>\n      <th>BANHEIROS</th>\n      <th>VAGAS</th>\n      <th>PRECO</th>\n    </tr>\n  </thead>\n  <tbody>\n    <tr>\n      <th>0</th>\n      <td>0</td>\n      <td>Apartamento com 4 Quartos à Venda, 191m²</td>\n      <td>Avenida Beira Mar</td>\n      <td>823</td>\n      <td>Zona Nova</td>\n      <td>Capão da Canoa</td>\n      <td>RS</td>\n      <td>191</td>\n      <td>4</td>\n      <td>4</td>\n      <td>2.0</td>\n      <td>R$ 1.200.000</td>\n    </tr>\n    <tr>\n      <th>1</th>\n      <td>1</td>\n      <td>Apartamento com 3 Quartos à Venda, 103m²</td>\n      <td>Avenida Venâncio Aíres</td>\n      <td>N/I</td>\n      <td>Zona Nova</td>\n      <td>Capão da Canoa</td>\n      <td>RS</td>\n      <td>103</td>\n      <td>3</td>\n      <td>3</td>\n      <td>2.0</td>\n      <td>R$ 795.000</td>\n    </tr>\n    <tr>\n      <th>2</th>\n      <td>2</td>\n      <td>Apartamento com  Quarto à Venda, 55m²</td>\n      <td>N/I</td>\n      <td>N/I</td>\n      <td>Capao Novo</td>\n      <td>Capão da Canoa</td>\n      <td>RS</td>\n      <td>55</td>\n      <td>1</td>\n      <td>1</td>\n      <td>1.0</td>\n      <td>R$ 169.500</td>\n    </tr>\n    <tr>\n      <th>3</th>\n      <td>3</td>\n      <td>Apartamento com 2 Quartos à Venda, 64m²</td>\n      <td>N/I</td>\n      <td>N/I</td>\n      <td>N/I</td>\n      <td>Capão da Canoa</td>\n      <td>RS</td>\n      <td>64</td>\n      <td>2</td>\n      <td>2</td>\n      <td>1.0</td>\n      <td>R$ 265.000</td>\n    </tr>\n    <tr>\n      <th>4</th>\n      <td>4</td>\n      <td>Apartamento com 3 Quartos à Venda, 171m²</td>\n      <td>Rua Guilherme Gutman</td>\n      <td>1249</td>\n      <td>Centro</td>\n      <td>Capão da Canoa</td>\n      <td>RS</td>\n      <td>171</td>\n      <td>3</td>\n      <td>3</td>\n      <td>1.0</td>\n      <td>R$ 850.000</td>\n    </tr>\n    <tr>\n      <th>...</th>\n      <td>...</td>\n      <td>...</td>\n      <td>...</td>\n      <td>...</td>\n      <td>...</td>\n      <td>...</td>\n      <td>...</td>\n      <td>...</td>\n      <td>...</td>\n      <td>...</td>\n      <td>...</td>\n      <td>...</td>\n    </tr>\n    <tr>\n      <th>95</th>\n      <td>95</td>\n      <td>Apartamento com  Quarto à Venda, 55m²</td>\n      <td>Rua Marabá</td>\n      <td>1524</td>\n      <td>Centro</td>\n      <td>Capão da Canoa</td>\n      <td>RS</td>\n      <td>55</td>\n      <td>1</td>\n      <td>1</td>\n      <td>1.0</td>\n      <td>R$ 335.000</td>\n    </tr>\n    <tr>\n      <th>96</th>\n      <td>96</td>\n      <td>Apartamento com 2 Quartos à Venda, 99m²</td>\n      <td>Rua Guaraci</td>\n      <td>2280</td>\n      <td>Centro</td>\n      <td>Capão da Canoa</td>\n      <td>RS</td>\n      <td>99</td>\n      <td>2</td>\n      <td>2</td>\n      <td>1.0</td>\n      <td>R$ 490.000\\n                        \\nPreço ab...</td>\n    </tr>\n    <tr>\n      <th>97</th>\n      <td>97</td>\n      <td>Apartamento com 2 Quartos à Venda, 60m²</td>\n      <td>N/I</td>\n      <td>N/I</td>\n      <td>Zona Nova</td>\n      <td>Capão da Canoa</td>\n      <td>RS</td>\n      <td>60</td>\n      <td>2</td>\n      <td>2</td>\n      <td>1.0</td>\n      <td>R$ 380.000</td>\n    </tr>\n    <tr>\n      <th>98</th>\n      <td>98</td>\n      <td>Apartamento com 2 Quartos à Venda, 80m²</td>\n      <td>Avenida Rudá</td>\n      <td>214</td>\n      <td>Centro</td>\n      <td>Capão da Canoa</td>\n      <td>RS</td>\n      <td>80</td>\n      <td>2</td>\n      <td>2</td>\n      <td>1.0</td>\n      <td>R$ 440.000</td>\n    </tr>\n    <tr>\n      <th>99</th>\n      <td>99</td>\n      <td>Apartamento com 2 Quartos à Venda, 99m²</td>\n      <td>Rua Moacir</td>\n      <td>N/I</td>\n      <td>Centro</td>\n      <td>Capão da Canoa</td>\n      <td>RS</td>\n      <td>99</td>\n      <td>2</td>\n      <td>2</td>\n      <td>1.0</td>\n      <td>R$ 490.000\\n                        \\nPreço ab...</td>\n    </tr>\n  </tbody>\n</table>\n<p>100 rows × 12 columns</p>\n</div>"
     },
     "execution_count": 10,
     "metadata": {},
     "output_type": "execute_result"
    }
   ],
   "source": [
    "df1['VAGAS'] = df1['VAGAS'].fillna(0)\n",
    "df1.head(100)"
   ],
   "metadata": {
    "collapsed": false
   }
  },
  {
   "cell_type": "code",
   "execution_count": 11,
   "outputs": [
    {
     "data": {
      "text/plain": "ITEM         0\nDESCRICAO    0\nENDERECO     0\nNUMERO       0\nBAIRRO       0\nCIDADE       0\nESTADO       0\nAREA         0\nQUARTOS      0\nBANHEIROS    0\nVAGAS        0\nPRECO        0\ndtype: int64"
     },
     "execution_count": 11,
     "metadata": {},
     "output_type": "execute_result"
    }
   ],
   "source": [
    "df1.isnull().sum()"
   ],
   "metadata": {
    "collapsed": false
   }
  },
  {
   "cell_type": "code",
   "execution_count": 12,
   "outputs": [],
   "source": [
    "df1['VAGAS'] = df1['VAGAS'].astype('int64')"
   ],
   "metadata": {
    "collapsed": false
   }
  },
  {
   "cell_type": "code",
   "execution_count": 13,
   "outputs": [
    {
     "name": "stdout",
     "output_type": "stream",
     "text": [
      "<class 'pandas.core.frame.DataFrame'>\n",
      "RangeIndex: 6168 entries, 0 to 6167\n",
      "Data columns (total 12 columns):\n",
      " #   Column     Non-Null Count  Dtype \n",
      "---  ------     --------------  ----- \n",
      " 0   ITEM       6168 non-null   int64 \n",
      " 1   DESCRICAO  6168 non-null   object\n",
      " 2   ENDERECO   6168 non-null   object\n",
      " 3   NUMERO     6168 non-null   object\n",
      " 4   BAIRRO     6168 non-null   object\n",
      " 5   CIDADE     6168 non-null   object\n",
      " 6   ESTADO     6168 non-null   object\n",
      " 7   AREA       6168 non-null   int64 \n",
      " 8   QUARTOS    6168 non-null   int64 \n",
      " 9   BANHEIROS  6168 non-null   int64 \n",
      " 10  VAGAS      6168 non-null   int64 \n",
      " 11  PRECO      6168 non-null   object\n",
      "dtypes: int64(5), object(7)\n",
      "memory usage: 578.4+ KB\n"
     ]
    }
   ],
   "source": [
    "df1.info()"
   ],
   "metadata": {
    "collapsed": false
   }
  },
  {
   "cell_type": "code",
   "execution_count": 14,
   "outputs": [
    {
     "data": {
      "text/plain": "    ITEM                                 DESCRICAO                ENDERECO  \\\n0      0  Apartamento com 4 Quartos à Venda, 191m²       Avenida Beira Mar   \n1      1  Apartamento com 3 Quartos à Venda, 103m²  Avenida Venâncio Aíres   \n2      2     Apartamento com  Quarto à Venda, 55m²                     N/I   \n3      3   Apartamento com 2 Quartos à Venda, 64m²                     N/I   \n4      4  Apartamento com 3 Quartos à Venda, 171m²    Rua Guilherme Gutman   \n..   ...                                       ...                     ...   \n95    95     Apartamento com  Quarto à Venda, 55m²              Rua Marabá   \n96    96   Apartamento com 2 Quartos à Venda, 99m²             Rua Guaraci   \n97    97   Apartamento com 2 Quartos à Venda, 60m²                     N/I   \n98    98   Apartamento com 2 Quartos à Venda, 80m²            Avenida Rudá   \n99    99   Apartamento com 2 Quartos à Venda, 99m²              Rua Moacir   \n\n   NUMERO      BAIRRO          CIDADE ESTADO  AREA  QUARTOS  BANHEIROS  VAGAS  \\\n0     823   Zona Nova  Capão da Canoa     RS   191        4          4      2   \n1     N/I   Zona Nova  Capão da Canoa     RS   103        3          3      2   \n2     N/I  Capao Novo  Capão da Canoa     RS    55        1          1      1   \n3     N/I         N/I  Capão da Canoa     RS    64        2          2      1   \n4    1249      Centro  Capão da Canoa     RS   171        3          3      1   \n..    ...         ...             ...    ...   ...      ...        ...    ...   \n95   1524      Centro  Capão da Canoa     RS    55        1          1      1   \n96   2280      Centro  Capão da Canoa     RS    99        2          2      1   \n97    N/I   Zona Nova  Capão da Canoa     RS    60        2          2      1   \n98    214      Centro  Capão da Canoa     RS    80        2          2      1   \n99    N/I      Centro  Capão da Canoa     RS    99        2          2      1   \n\n                                                PRECO  \n0                                        R$ 1.200.000  \n1                                          R$ 795.000  \n2                                          R$ 169.500  \n3                                          R$ 265.000  \n4                                          R$ 850.000  \n..                                                ...  \n95                                         R$ 335.000  \n96  R$ 490.000\\n                        \\nPreço ab...  \n97                                         R$ 380.000  \n98                                         R$ 440.000  \n99  R$ 490.000\\n                        \\nPreço ab...  \n\n[100 rows x 12 columns]",
      "text/html": "<div>\n<style scoped>\n    .dataframe tbody tr th:only-of-type {\n        vertical-align: middle;\n    }\n\n    .dataframe tbody tr th {\n        vertical-align: top;\n    }\n\n    .dataframe thead th {\n        text-align: right;\n    }\n</style>\n<table border=\"1\" class=\"dataframe\">\n  <thead>\n    <tr style=\"text-align: right;\">\n      <th></th>\n      <th>ITEM</th>\n      <th>DESCRICAO</th>\n      <th>ENDERECO</th>\n      <th>NUMERO</th>\n      <th>BAIRRO</th>\n      <th>CIDADE</th>\n      <th>ESTADO</th>\n      <th>AREA</th>\n      <th>QUARTOS</th>\n      <th>BANHEIROS</th>\n      <th>VAGAS</th>\n      <th>PRECO</th>\n    </tr>\n  </thead>\n  <tbody>\n    <tr>\n      <th>0</th>\n      <td>0</td>\n      <td>Apartamento com 4 Quartos à Venda, 191m²</td>\n      <td>Avenida Beira Mar</td>\n      <td>823</td>\n      <td>Zona Nova</td>\n      <td>Capão da Canoa</td>\n      <td>RS</td>\n      <td>191</td>\n      <td>4</td>\n      <td>4</td>\n      <td>2</td>\n      <td>R$ 1.200.000</td>\n    </tr>\n    <tr>\n      <th>1</th>\n      <td>1</td>\n      <td>Apartamento com 3 Quartos à Venda, 103m²</td>\n      <td>Avenida Venâncio Aíres</td>\n      <td>N/I</td>\n      <td>Zona Nova</td>\n      <td>Capão da Canoa</td>\n      <td>RS</td>\n      <td>103</td>\n      <td>3</td>\n      <td>3</td>\n      <td>2</td>\n      <td>R$ 795.000</td>\n    </tr>\n    <tr>\n      <th>2</th>\n      <td>2</td>\n      <td>Apartamento com  Quarto à Venda, 55m²</td>\n      <td>N/I</td>\n      <td>N/I</td>\n      <td>Capao Novo</td>\n      <td>Capão da Canoa</td>\n      <td>RS</td>\n      <td>55</td>\n      <td>1</td>\n      <td>1</td>\n      <td>1</td>\n      <td>R$ 169.500</td>\n    </tr>\n    <tr>\n      <th>3</th>\n      <td>3</td>\n      <td>Apartamento com 2 Quartos à Venda, 64m²</td>\n      <td>N/I</td>\n      <td>N/I</td>\n      <td>N/I</td>\n      <td>Capão da Canoa</td>\n      <td>RS</td>\n      <td>64</td>\n      <td>2</td>\n      <td>2</td>\n      <td>1</td>\n      <td>R$ 265.000</td>\n    </tr>\n    <tr>\n      <th>4</th>\n      <td>4</td>\n      <td>Apartamento com 3 Quartos à Venda, 171m²</td>\n      <td>Rua Guilherme Gutman</td>\n      <td>1249</td>\n      <td>Centro</td>\n      <td>Capão da Canoa</td>\n      <td>RS</td>\n      <td>171</td>\n      <td>3</td>\n      <td>3</td>\n      <td>1</td>\n      <td>R$ 850.000</td>\n    </tr>\n    <tr>\n      <th>...</th>\n      <td>...</td>\n      <td>...</td>\n      <td>...</td>\n      <td>...</td>\n      <td>...</td>\n      <td>...</td>\n      <td>...</td>\n      <td>...</td>\n      <td>...</td>\n      <td>...</td>\n      <td>...</td>\n      <td>...</td>\n    </tr>\n    <tr>\n      <th>95</th>\n      <td>95</td>\n      <td>Apartamento com  Quarto à Venda, 55m²</td>\n      <td>Rua Marabá</td>\n      <td>1524</td>\n      <td>Centro</td>\n      <td>Capão da Canoa</td>\n      <td>RS</td>\n      <td>55</td>\n      <td>1</td>\n      <td>1</td>\n      <td>1</td>\n      <td>R$ 335.000</td>\n    </tr>\n    <tr>\n      <th>96</th>\n      <td>96</td>\n      <td>Apartamento com 2 Quartos à Venda, 99m²</td>\n      <td>Rua Guaraci</td>\n      <td>2280</td>\n      <td>Centro</td>\n      <td>Capão da Canoa</td>\n      <td>RS</td>\n      <td>99</td>\n      <td>2</td>\n      <td>2</td>\n      <td>1</td>\n      <td>R$ 490.000\\n                        \\nPreço ab...</td>\n    </tr>\n    <tr>\n      <th>97</th>\n      <td>97</td>\n      <td>Apartamento com 2 Quartos à Venda, 60m²</td>\n      <td>N/I</td>\n      <td>N/I</td>\n      <td>Zona Nova</td>\n      <td>Capão da Canoa</td>\n      <td>RS</td>\n      <td>60</td>\n      <td>2</td>\n      <td>2</td>\n      <td>1</td>\n      <td>R$ 380.000</td>\n    </tr>\n    <tr>\n      <th>98</th>\n      <td>98</td>\n      <td>Apartamento com 2 Quartos à Venda, 80m²</td>\n      <td>Avenida Rudá</td>\n      <td>214</td>\n      <td>Centro</td>\n      <td>Capão da Canoa</td>\n      <td>RS</td>\n      <td>80</td>\n      <td>2</td>\n      <td>2</td>\n      <td>1</td>\n      <td>R$ 440.000</td>\n    </tr>\n    <tr>\n      <th>99</th>\n      <td>99</td>\n      <td>Apartamento com 2 Quartos à Venda, 99m²</td>\n      <td>Rua Moacir</td>\n      <td>N/I</td>\n      <td>Centro</td>\n      <td>Capão da Canoa</td>\n      <td>RS</td>\n      <td>99</td>\n      <td>2</td>\n      <td>2</td>\n      <td>1</td>\n      <td>R$ 490.000\\n                        \\nPreço ab...</td>\n    </tr>\n  </tbody>\n</table>\n<p>100 rows × 12 columns</p>\n</div>"
     },
     "execution_count": 14,
     "metadata": {},
     "output_type": "execute_result"
    }
   ],
   "source": [
    "df1.head(100)"
   ],
   "metadata": {
    "collapsed": false
   }
  },
  {
   "cell_type": "code",
   "execution_count": 15,
   "outputs": [
    {
     "name": "stderr",
     "output_type": "stream",
     "text": [
      "/var/folders/m_/60nwkd1s0mg9hkp28nc5q0xr0000gn/T/ipykernel_4812/2615323800.py:1: FutureWarning: The default value of regex will change from True to False in a future version.\n",
      "  df1['PRECO'] = df1['PRECO'].str.replace(r'\\D', '')\n"
     ]
    }
   ],
   "source": [
    "df1['PRECO'] = df1['PRECO'].str.replace(r'\\D', '')"
   ],
   "metadata": {
    "collapsed": false
   }
  },
  {
   "cell_type": "code",
   "execution_count": 16,
   "outputs": [
    {
     "data": {
      "text/plain": "    ITEM                                 DESCRICAO                ENDERECO  \\\n0      0  Apartamento com 4 Quartos à Venda, 191m²       Avenida Beira Mar   \n1      1  Apartamento com 3 Quartos à Venda, 103m²  Avenida Venâncio Aíres   \n2      2     Apartamento com  Quarto à Venda, 55m²                     N/I   \n3      3   Apartamento com 2 Quartos à Venda, 64m²                     N/I   \n4      4  Apartamento com 3 Quartos à Venda, 171m²    Rua Guilherme Gutman   \n..   ...                                       ...                     ...   \n95    95     Apartamento com  Quarto à Venda, 55m²              Rua Marabá   \n96    96   Apartamento com 2 Quartos à Venda, 99m²             Rua Guaraci   \n97    97   Apartamento com 2 Quartos à Venda, 60m²                     N/I   \n98    98   Apartamento com 2 Quartos à Venda, 80m²            Avenida Rudá   \n99    99   Apartamento com 2 Quartos à Venda, 99m²              Rua Moacir   \n\n   NUMERO      BAIRRO          CIDADE ESTADO  AREA  QUARTOS  BANHEIROS  VAGAS  \\\n0     823   Zona Nova  Capão da Canoa     RS   191        4          4      2   \n1     N/I   Zona Nova  Capão da Canoa     RS   103        3          3      2   \n2     N/I  Capao Novo  Capão da Canoa     RS    55        1          1      1   \n3     N/I         N/I  Capão da Canoa     RS    64        2          2      1   \n4    1249      Centro  Capão da Canoa     RS   171        3          3      1   \n..    ...         ...             ...    ...   ...      ...        ...    ...   \n95   1524      Centro  Capão da Canoa     RS    55        1          1      1   \n96   2280      Centro  Capão da Canoa     RS    99        2          2      1   \n97    N/I   Zona Nova  Capão da Canoa     RS    60        2          2      1   \n98    214      Centro  Capão da Canoa     RS    80        2          2      1   \n99    N/I      Centro  Capão da Canoa     RS    99        2          2      1   \n\n      PRECO  \n0   1200000  \n1    795000  \n2    169500  \n3    265000  \n4    850000  \n..      ...  \n95   335000  \n96   490000  \n97   380000  \n98   440000  \n99   490000  \n\n[100 rows x 12 columns]",
      "text/html": "<div>\n<style scoped>\n    .dataframe tbody tr th:only-of-type {\n        vertical-align: middle;\n    }\n\n    .dataframe tbody tr th {\n        vertical-align: top;\n    }\n\n    .dataframe thead th {\n        text-align: right;\n    }\n</style>\n<table border=\"1\" class=\"dataframe\">\n  <thead>\n    <tr style=\"text-align: right;\">\n      <th></th>\n      <th>ITEM</th>\n      <th>DESCRICAO</th>\n      <th>ENDERECO</th>\n      <th>NUMERO</th>\n      <th>BAIRRO</th>\n      <th>CIDADE</th>\n      <th>ESTADO</th>\n      <th>AREA</th>\n      <th>QUARTOS</th>\n      <th>BANHEIROS</th>\n      <th>VAGAS</th>\n      <th>PRECO</th>\n    </tr>\n  </thead>\n  <tbody>\n    <tr>\n      <th>0</th>\n      <td>0</td>\n      <td>Apartamento com 4 Quartos à Venda, 191m²</td>\n      <td>Avenida Beira Mar</td>\n      <td>823</td>\n      <td>Zona Nova</td>\n      <td>Capão da Canoa</td>\n      <td>RS</td>\n      <td>191</td>\n      <td>4</td>\n      <td>4</td>\n      <td>2</td>\n      <td>1200000</td>\n    </tr>\n    <tr>\n      <th>1</th>\n      <td>1</td>\n      <td>Apartamento com 3 Quartos à Venda, 103m²</td>\n      <td>Avenida Venâncio Aíres</td>\n      <td>N/I</td>\n      <td>Zona Nova</td>\n      <td>Capão da Canoa</td>\n      <td>RS</td>\n      <td>103</td>\n      <td>3</td>\n      <td>3</td>\n      <td>2</td>\n      <td>795000</td>\n    </tr>\n    <tr>\n      <th>2</th>\n      <td>2</td>\n      <td>Apartamento com  Quarto à Venda, 55m²</td>\n      <td>N/I</td>\n      <td>N/I</td>\n      <td>Capao Novo</td>\n      <td>Capão da Canoa</td>\n      <td>RS</td>\n      <td>55</td>\n      <td>1</td>\n      <td>1</td>\n      <td>1</td>\n      <td>169500</td>\n    </tr>\n    <tr>\n      <th>3</th>\n      <td>3</td>\n      <td>Apartamento com 2 Quartos à Venda, 64m²</td>\n      <td>N/I</td>\n      <td>N/I</td>\n      <td>N/I</td>\n      <td>Capão da Canoa</td>\n      <td>RS</td>\n      <td>64</td>\n      <td>2</td>\n      <td>2</td>\n      <td>1</td>\n      <td>265000</td>\n    </tr>\n    <tr>\n      <th>4</th>\n      <td>4</td>\n      <td>Apartamento com 3 Quartos à Venda, 171m²</td>\n      <td>Rua Guilherme Gutman</td>\n      <td>1249</td>\n      <td>Centro</td>\n      <td>Capão da Canoa</td>\n      <td>RS</td>\n      <td>171</td>\n      <td>3</td>\n      <td>3</td>\n      <td>1</td>\n      <td>850000</td>\n    </tr>\n    <tr>\n      <th>...</th>\n      <td>...</td>\n      <td>...</td>\n      <td>...</td>\n      <td>...</td>\n      <td>...</td>\n      <td>...</td>\n      <td>...</td>\n      <td>...</td>\n      <td>...</td>\n      <td>...</td>\n      <td>...</td>\n      <td>...</td>\n    </tr>\n    <tr>\n      <th>95</th>\n      <td>95</td>\n      <td>Apartamento com  Quarto à Venda, 55m²</td>\n      <td>Rua Marabá</td>\n      <td>1524</td>\n      <td>Centro</td>\n      <td>Capão da Canoa</td>\n      <td>RS</td>\n      <td>55</td>\n      <td>1</td>\n      <td>1</td>\n      <td>1</td>\n      <td>335000</td>\n    </tr>\n    <tr>\n      <th>96</th>\n      <td>96</td>\n      <td>Apartamento com 2 Quartos à Venda, 99m²</td>\n      <td>Rua Guaraci</td>\n      <td>2280</td>\n      <td>Centro</td>\n      <td>Capão da Canoa</td>\n      <td>RS</td>\n      <td>99</td>\n      <td>2</td>\n      <td>2</td>\n      <td>1</td>\n      <td>490000</td>\n    </tr>\n    <tr>\n      <th>97</th>\n      <td>97</td>\n      <td>Apartamento com 2 Quartos à Venda, 60m²</td>\n      <td>N/I</td>\n      <td>N/I</td>\n      <td>Zona Nova</td>\n      <td>Capão da Canoa</td>\n      <td>RS</td>\n      <td>60</td>\n      <td>2</td>\n      <td>2</td>\n      <td>1</td>\n      <td>380000</td>\n    </tr>\n    <tr>\n      <th>98</th>\n      <td>98</td>\n      <td>Apartamento com 2 Quartos à Venda, 80m²</td>\n      <td>Avenida Rudá</td>\n      <td>214</td>\n      <td>Centro</td>\n      <td>Capão da Canoa</td>\n      <td>RS</td>\n      <td>80</td>\n      <td>2</td>\n      <td>2</td>\n      <td>1</td>\n      <td>440000</td>\n    </tr>\n    <tr>\n      <th>99</th>\n      <td>99</td>\n      <td>Apartamento com 2 Quartos à Venda, 99m²</td>\n      <td>Rua Moacir</td>\n      <td>N/I</td>\n      <td>Centro</td>\n      <td>Capão da Canoa</td>\n      <td>RS</td>\n      <td>99</td>\n      <td>2</td>\n      <td>2</td>\n      <td>1</td>\n      <td>490000</td>\n    </tr>\n  </tbody>\n</table>\n<p>100 rows × 12 columns</p>\n</div>"
     },
     "execution_count": 16,
     "metadata": {},
     "output_type": "execute_result"
    }
   ],
   "source": [
    "df1.head(100)"
   ],
   "metadata": {
    "collapsed": false
   }
  },
  {
   "cell_type": "code",
   "execution_count": 17,
   "outputs": [
    {
     "name": "stdout",
     "output_type": "stream",
     "text": [
      "<class 'pandas.core.frame.DataFrame'>\n",
      "RangeIndex: 6168 entries, 0 to 6167\n",
      "Data columns (total 12 columns):\n",
      " #   Column     Non-Null Count  Dtype \n",
      "---  ------     --------------  ----- \n",
      " 0   ITEM       6168 non-null   int64 \n",
      " 1   DESCRICAO  6168 non-null   object\n",
      " 2   ENDERECO   6168 non-null   object\n",
      " 3   NUMERO     6168 non-null   object\n",
      " 4   BAIRRO     6168 non-null   object\n",
      " 5   CIDADE     6168 non-null   object\n",
      " 6   ESTADO     6168 non-null   object\n",
      " 7   AREA       6168 non-null   int64 \n",
      " 8   QUARTOS    6168 non-null   int64 \n",
      " 9   BANHEIROS  6168 non-null   int64 \n",
      " 10  VAGAS      6168 non-null   int64 \n",
      " 11  PRECO      6168 non-null   object\n",
      "dtypes: int64(5), object(7)\n",
      "memory usage: 578.4+ KB\n"
     ]
    }
   ],
   "source": [
    "df1.info()"
   ],
   "metadata": {
    "collapsed": false
   }
  },
  {
   "cell_type": "code",
   "execution_count": 18,
   "outputs": [],
   "source": [
    "df1['PRECO'] = df1['PRECO'].astype('int64')"
   ],
   "metadata": {
    "collapsed": false
   }
  },
  {
   "cell_type": "code",
   "execution_count": 19,
   "outputs": [
    {
     "name": "stdout",
     "output_type": "stream",
     "text": [
      "<class 'pandas.core.frame.DataFrame'>\n",
      "RangeIndex: 6168 entries, 0 to 6167\n",
      "Data columns (total 12 columns):\n",
      " #   Column     Non-Null Count  Dtype \n",
      "---  ------     --------------  ----- \n",
      " 0   ITEM       6168 non-null   int64 \n",
      " 1   DESCRICAO  6168 non-null   object\n",
      " 2   ENDERECO   6168 non-null   object\n",
      " 3   NUMERO     6168 non-null   object\n",
      " 4   BAIRRO     6168 non-null   object\n",
      " 5   CIDADE     6168 non-null   object\n",
      " 6   ESTADO     6168 non-null   object\n",
      " 7   AREA       6168 non-null   int64 \n",
      " 8   QUARTOS    6168 non-null   int64 \n",
      " 9   BANHEIROS  6168 non-null   int64 \n",
      " 10  VAGAS      6168 non-null   int64 \n",
      " 11  PRECO      6168 non-null   int64 \n",
      "dtypes: int64(6), object(6)\n",
      "memory usage: 578.4+ KB\n"
     ]
    }
   ],
   "source": [
    "df1.info()"
   ],
   "metadata": {
    "collapsed": false
   }
  },
  {
   "cell_type": "code",
   "execution_count": 20,
   "outputs": [
    {
     "data": {
      "text/plain": "    ITEM                                 DESCRICAO                ENDERECO  \\\n0      0  Apartamento com 4 Quartos à Venda, 191m²       Avenida Beira Mar   \n1      1  Apartamento com 3 Quartos à Venda, 103m²  Avenida Venâncio Aíres   \n2      2     Apartamento com  Quarto à Venda, 55m²                     N/I   \n3      3   Apartamento com 2 Quartos à Venda, 64m²                     N/I   \n4      4  Apartamento com 3 Quartos à Venda, 171m²    Rua Guilherme Gutman   \n..   ...                                       ...                     ...   \n95    95     Apartamento com  Quarto à Venda, 55m²              Rua Marabá   \n96    96   Apartamento com 2 Quartos à Venda, 99m²             Rua Guaraci   \n97    97   Apartamento com 2 Quartos à Venda, 60m²                     N/I   \n98    98   Apartamento com 2 Quartos à Venda, 80m²            Avenida Rudá   \n99    99   Apartamento com 2 Quartos à Venda, 99m²              Rua Moacir   \n\n   NUMERO      BAIRRO          CIDADE ESTADO  AREA  QUARTOS  BANHEIROS  VAGAS  \\\n0     823   Zona Nova  Capão da Canoa     RS   191        4          4      2   \n1     N/I   Zona Nova  Capão da Canoa     RS   103        3          3      2   \n2     N/I  Capao Novo  Capão da Canoa     RS    55        1          1      1   \n3     N/I         N/I  Capão da Canoa     RS    64        2          2      1   \n4    1249      Centro  Capão da Canoa     RS   171        3          3      1   \n..    ...         ...             ...    ...   ...      ...        ...    ...   \n95   1524      Centro  Capão da Canoa     RS    55        1          1      1   \n96   2280      Centro  Capão da Canoa     RS    99        2          2      1   \n97    N/I   Zona Nova  Capão da Canoa     RS    60        2          2      1   \n98    214      Centro  Capão da Canoa     RS    80        2          2      1   \n99    N/I      Centro  Capão da Canoa     RS    99        2          2      1   \n\n      PRECO  \n0   1200000  \n1    795000  \n2    169500  \n3    265000  \n4    850000  \n..      ...  \n95   335000  \n96   490000  \n97   380000  \n98   440000  \n99   490000  \n\n[100 rows x 12 columns]",
      "text/html": "<div>\n<style scoped>\n    .dataframe tbody tr th:only-of-type {\n        vertical-align: middle;\n    }\n\n    .dataframe tbody tr th {\n        vertical-align: top;\n    }\n\n    .dataframe thead th {\n        text-align: right;\n    }\n</style>\n<table border=\"1\" class=\"dataframe\">\n  <thead>\n    <tr style=\"text-align: right;\">\n      <th></th>\n      <th>ITEM</th>\n      <th>DESCRICAO</th>\n      <th>ENDERECO</th>\n      <th>NUMERO</th>\n      <th>BAIRRO</th>\n      <th>CIDADE</th>\n      <th>ESTADO</th>\n      <th>AREA</th>\n      <th>QUARTOS</th>\n      <th>BANHEIROS</th>\n      <th>VAGAS</th>\n      <th>PRECO</th>\n    </tr>\n  </thead>\n  <tbody>\n    <tr>\n      <th>0</th>\n      <td>0</td>\n      <td>Apartamento com 4 Quartos à Venda, 191m²</td>\n      <td>Avenida Beira Mar</td>\n      <td>823</td>\n      <td>Zona Nova</td>\n      <td>Capão da Canoa</td>\n      <td>RS</td>\n      <td>191</td>\n      <td>4</td>\n      <td>4</td>\n      <td>2</td>\n      <td>1200000</td>\n    </tr>\n    <tr>\n      <th>1</th>\n      <td>1</td>\n      <td>Apartamento com 3 Quartos à Venda, 103m²</td>\n      <td>Avenida Venâncio Aíres</td>\n      <td>N/I</td>\n      <td>Zona Nova</td>\n      <td>Capão da Canoa</td>\n      <td>RS</td>\n      <td>103</td>\n      <td>3</td>\n      <td>3</td>\n      <td>2</td>\n      <td>795000</td>\n    </tr>\n    <tr>\n      <th>2</th>\n      <td>2</td>\n      <td>Apartamento com  Quarto à Venda, 55m²</td>\n      <td>N/I</td>\n      <td>N/I</td>\n      <td>Capao Novo</td>\n      <td>Capão da Canoa</td>\n      <td>RS</td>\n      <td>55</td>\n      <td>1</td>\n      <td>1</td>\n      <td>1</td>\n      <td>169500</td>\n    </tr>\n    <tr>\n      <th>3</th>\n      <td>3</td>\n      <td>Apartamento com 2 Quartos à Venda, 64m²</td>\n      <td>N/I</td>\n      <td>N/I</td>\n      <td>N/I</td>\n      <td>Capão da Canoa</td>\n      <td>RS</td>\n      <td>64</td>\n      <td>2</td>\n      <td>2</td>\n      <td>1</td>\n      <td>265000</td>\n    </tr>\n    <tr>\n      <th>4</th>\n      <td>4</td>\n      <td>Apartamento com 3 Quartos à Venda, 171m²</td>\n      <td>Rua Guilherme Gutman</td>\n      <td>1249</td>\n      <td>Centro</td>\n      <td>Capão da Canoa</td>\n      <td>RS</td>\n      <td>171</td>\n      <td>3</td>\n      <td>3</td>\n      <td>1</td>\n      <td>850000</td>\n    </tr>\n    <tr>\n      <th>...</th>\n      <td>...</td>\n      <td>...</td>\n      <td>...</td>\n      <td>...</td>\n      <td>...</td>\n      <td>...</td>\n      <td>...</td>\n      <td>...</td>\n      <td>...</td>\n      <td>...</td>\n      <td>...</td>\n      <td>...</td>\n    </tr>\n    <tr>\n      <th>95</th>\n      <td>95</td>\n      <td>Apartamento com  Quarto à Venda, 55m²</td>\n      <td>Rua Marabá</td>\n      <td>1524</td>\n      <td>Centro</td>\n      <td>Capão da Canoa</td>\n      <td>RS</td>\n      <td>55</td>\n      <td>1</td>\n      <td>1</td>\n      <td>1</td>\n      <td>335000</td>\n    </tr>\n    <tr>\n      <th>96</th>\n      <td>96</td>\n      <td>Apartamento com 2 Quartos à Venda, 99m²</td>\n      <td>Rua Guaraci</td>\n      <td>2280</td>\n      <td>Centro</td>\n      <td>Capão da Canoa</td>\n      <td>RS</td>\n      <td>99</td>\n      <td>2</td>\n      <td>2</td>\n      <td>1</td>\n      <td>490000</td>\n    </tr>\n    <tr>\n      <th>97</th>\n      <td>97</td>\n      <td>Apartamento com 2 Quartos à Venda, 60m²</td>\n      <td>N/I</td>\n      <td>N/I</td>\n      <td>Zona Nova</td>\n      <td>Capão da Canoa</td>\n      <td>RS</td>\n      <td>60</td>\n      <td>2</td>\n      <td>2</td>\n      <td>1</td>\n      <td>380000</td>\n    </tr>\n    <tr>\n      <th>98</th>\n      <td>98</td>\n      <td>Apartamento com 2 Quartos à Venda, 80m²</td>\n      <td>Avenida Rudá</td>\n      <td>214</td>\n      <td>Centro</td>\n      <td>Capão da Canoa</td>\n      <td>RS</td>\n      <td>80</td>\n      <td>2</td>\n      <td>2</td>\n      <td>1</td>\n      <td>440000</td>\n    </tr>\n    <tr>\n      <th>99</th>\n      <td>99</td>\n      <td>Apartamento com 2 Quartos à Venda, 99m²</td>\n      <td>Rua Moacir</td>\n      <td>N/I</td>\n      <td>Centro</td>\n      <td>Capão da Canoa</td>\n      <td>RS</td>\n      <td>99</td>\n      <td>2</td>\n      <td>2</td>\n      <td>1</td>\n      <td>490000</td>\n    </tr>\n  </tbody>\n</table>\n<p>100 rows × 12 columns</p>\n</div>"
     },
     "execution_count": 20,
     "metadata": {},
     "output_type": "execute_result"
    }
   ],
   "source": [
    "df1.head(100)"
   ],
   "metadata": {
    "collapsed": false
   }
  },
  {
   "cell_type": "code",
   "execution_count": 21,
   "outputs": [
    {
     "data": {
      "text/plain": "ITEM         0\nDESCRICAO    0\nENDERECO     0\nNUMERO       0\nBAIRRO       0\nCIDADE       0\nESTADO       0\nAREA         0\nQUARTOS      0\nBANHEIROS    0\nVAGAS        0\nPRECO        0\ndtype: int64"
     },
     "execution_count": 21,
     "metadata": {},
     "output_type": "execute_result"
    }
   ],
   "source": [
    "df1.isnull().sum()"
   ],
   "metadata": {
    "collapsed": false
   }
  },
  {
   "cell_type": "code",
   "execution_count": 22,
   "outputs": [
    {
     "data": {
      "text/plain": "              ITEM         AREA      QUARTOS    BANHEIROS        VAGAS  \\\ncount  6168.000000  6168.000000  6168.000000  6168.000000  6168.000000   \nmean   3083.500000    96.528534     2.260052     1.952983     1.152724   \nstd    1780.692562    51.622727     0.758379     0.846244     0.780014   \nmin       0.000000    10.000000     1.000000     1.000000     0.000000   \n25%    1541.750000    70.000000     2.000000     1.000000     1.000000   \n50%    3083.500000    89.000000     2.000000     2.000000     1.000000   \n75%    4625.250000   114.000000     3.000000     2.000000     1.000000   \nmax    6167.000000  1310.000000    12.000000    12.000000    19.000000   \n\n              PRECO  \ncount  6.168000e+03  \nmean   7.768698e+05  \nstd    5.865748e+05  \nmin    5.500000e+02  \n25%    4.700000e+05  \n50%    6.450000e+05  \n75%    8.799900e+05  \nmax    7.630000e+06  ",
      "text/html": "<div>\n<style scoped>\n    .dataframe tbody tr th:only-of-type {\n        vertical-align: middle;\n    }\n\n    .dataframe tbody tr th {\n        vertical-align: top;\n    }\n\n    .dataframe thead th {\n        text-align: right;\n    }\n</style>\n<table border=\"1\" class=\"dataframe\">\n  <thead>\n    <tr style=\"text-align: right;\">\n      <th></th>\n      <th>ITEM</th>\n      <th>AREA</th>\n      <th>QUARTOS</th>\n      <th>BANHEIROS</th>\n      <th>VAGAS</th>\n      <th>PRECO</th>\n    </tr>\n  </thead>\n  <tbody>\n    <tr>\n      <th>count</th>\n      <td>6168.000000</td>\n      <td>6168.000000</td>\n      <td>6168.000000</td>\n      <td>6168.000000</td>\n      <td>6168.000000</td>\n      <td>6.168000e+03</td>\n    </tr>\n    <tr>\n      <th>mean</th>\n      <td>3083.500000</td>\n      <td>96.528534</td>\n      <td>2.260052</td>\n      <td>1.952983</td>\n      <td>1.152724</td>\n      <td>7.768698e+05</td>\n    </tr>\n    <tr>\n      <th>std</th>\n      <td>1780.692562</td>\n      <td>51.622727</td>\n      <td>0.758379</td>\n      <td>0.846244</td>\n      <td>0.780014</td>\n      <td>5.865748e+05</td>\n    </tr>\n    <tr>\n      <th>min</th>\n      <td>0.000000</td>\n      <td>10.000000</td>\n      <td>1.000000</td>\n      <td>1.000000</td>\n      <td>0.000000</td>\n      <td>5.500000e+02</td>\n    </tr>\n    <tr>\n      <th>25%</th>\n      <td>1541.750000</td>\n      <td>70.000000</td>\n      <td>2.000000</td>\n      <td>1.000000</td>\n      <td>1.000000</td>\n      <td>4.700000e+05</td>\n    </tr>\n    <tr>\n      <th>50%</th>\n      <td>3083.500000</td>\n      <td>89.000000</td>\n      <td>2.000000</td>\n      <td>2.000000</td>\n      <td>1.000000</td>\n      <td>6.450000e+05</td>\n    </tr>\n    <tr>\n      <th>75%</th>\n      <td>4625.250000</td>\n      <td>114.000000</td>\n      <td>3.000000</td>\n      <td>2.000000</td>\n      <td>1.000000</td>\n      <td>8.799900e+05</td>\n    </tr>\n    <tr>\n      <th>max</th>\n      <td>6167.000000</td>\n      <td>1310.000000</td>\n      <td>12.000000</td>\n      <td>12.000000</td>\n      <td>19.000000</td>\n      <td>7.630000e+06</td>\n    </tr>\n  </tbody>\n</table>\n</div>"
     },
     "execution_count": 22,
     "metadata": {},
     "output_type": "execute_result"
    }
   ],
   "source": [
    "df1.describe()"
   ],
   "metadata": {
    "collapsed": false
   }
  },
  {
   "cell_type": "code",
   "execution_count": 24,
   "outputs": [],
   "source": [
    "df1.to_csv('capao2022_limpo.csv', sep=',')"
   ],
   "metadata": {
    "collapsed": false
   }
  },
  {
   "cell_type": "code",
   "execution_count": 23,
   "outputs": [],
   "source": [],
   "metadata": {
    "collapsed": false
   }
  }
 ],
 "metadata": {
  "kernelspec": {
   "display_name": "Python 3",
   "language": "python",
   "name": "python3"
  },
  "language_info": {
   "codemirror_mode": {
    "name": "ipython",
    "version": 2
   },
   "file_extension": ".py",
   "mimetype": "text/x-python",
   "name": "python",
   "nbconvert_exporter": "python",
   "pygments_lexer": "ipython2",
   "version": "2.7.6"
  }
 },
 "nbformat": 4,
 "nbformat_minor": 0
}
