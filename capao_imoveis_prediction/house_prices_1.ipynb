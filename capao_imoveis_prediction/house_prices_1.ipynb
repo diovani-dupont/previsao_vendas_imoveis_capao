{
 "cells": [
  {
   "cell_type": "code",
   "execution_count": 1,
   "metadata": {
    "collapsed": true
   },
   "outputs": [],
   "source": [
    "import numpy as np\n",
    "import pandas as pd\n",
    "import matplotlib.pyplot as plt\n",
    "import seaborn as sns\n",
    "import warnings"
   ]
  },
  {
   "cell_type": "code",
   "execution_count": 2,
   "outputs": [],
   "source": [
    "df = pd.read_csv(\"capao2022.csv\")"
   ],
   "metadata": {
    "collapsed": false
   }
  },
  {
   "cell_type": "code",
   "execution_count": 9,
   "outputs": [
    {
     "data": {
      "text/plain": "    Unnamed: 0                                    Título  \\\n0            0  Apartamento com 4 Quartos à Venda, 191m²   \n1            1  Apartamento com 3 Quartos à Venda, 103m²   \n2            2     Apartamento com  Quarto à Venda, 55m²   \n3            3   Apartamento com 2 Quartos à Venda, 64m²   \n4            4  Apartamento com 3 Quartos à Venda, 171m²   \n5            5     Apartamento com  Quarto à Venda, 45m²   \n6            6   Apartamento com 2 Quartos à Venda, 68m²   \n7            7   Apartamento com 2 Quartos à Venda, 98m²   \n8            8  Apartamento com 3 Quartos à Venda, 150m²   \n9            9   Apartamento com 3 Quartos à Venda, 72m²   \n10          10   Apartamento com 2 Quartos à Venda, 90m²   \n11          11  Apartamento com 6 Quartos à Venda, 420m²   \n12          12   Apartamento com 2 Quartos à Venda, 62m²   \n13          13   Apartamento com 2 Quartos à Venda, 83m²   \n14          14   Apartamento com 2 Quartos à Venda, 80m²   \n15          15   Apartamento com 2 Quartos à Venda, 75m²   \n16          16   Apartamento com 2 Quartos à Venda, 69m²   \n17          17   Apartamento com 2 Quartos à Venda, 82m²   \n18          18   Apartamento com 2 Quartos à Venda, 80m²   \n19          19  Apartamento com 3 Quartos à Venda, 240m²   \n\n                         Endereço Número      Bairro          Cidade Estado  \\\n0               Avenida Beira Mar    823   Zona Nova  Capão da Canoa     RS   \n1          Avenida Venâncio Aíres    N/I   Zona Nova  Capão da Canoa     RS   \n2                             N/I    N/I  Capao Novo  Capão da Canoa     RS   \n3                             N/I    N/I         N/I  Capão da Canoa     RS   \n4            Rua Guilherme Gutman   1249      Centro  Capão da Canoa     RS   \n5                      Rua Moacir   1989      Centro  Capão da Canoa     RS   \n6                             N/I    N/I         N/I  Capão da Canoa     RS   \n7                      Rua Marabá    N/I      Centro  Capão da Canoa     RS   \n8                             N/I    N/I  Navegantes  Capão da Canoa     RS   \n9                             N/I    N/I   Zona Nova  Capão da Canoa     RS   \n10                       Rua Sepé   2728  Navegantes  Capão da Canoa     RS   \n11                    Rua Guaraci    N/I      Centro  Capão da Canoa     RS   \n12                            N/I    N/I   Zona Nova  Capão da Canoa     RS   \n13                      Rua Moema   2393      Centro  Capão da Canoa     RS   \n14                       Rua Sepé   2460      Centro  Capão da Canoa     RS   \n15                     Rua Moacir   2115      Centro  Capão da Canoa     RS   \n16                       Rua Sepé   3030  Navegantes  Capão da Canoa     RS   \n17                     Rua Moacir   2115      Centro  Capão da Canoa     RS   \n18                       Rua Sepé   2935  Navegantes  Capão da Canoa     RS   \n19  Avenida Neusa Goulart Brizola    276   Zona Nova  Capão da Canoa     RS   \n\n    Área  Quartos  Banheiros Vagas                                      Preço  \n0    191        4          4     2                               R$ 1.200.000  \n1    103        3          3     2                                 R$ 795.000  \n2     55        1          1     1                                 R$ 169.500  \n3     64        2          2     1                                 R$ 265.000  \n4    171        3          3     1                                 R$ 850.000  \n5     45        1          1     1                                 R$ 296.000  \n6     68        2          2     1                                 R$ 820.000  \n7     98        2          2     2                                 R$ 450.000  \n8    150        3          3     2                               R$ 1.650.000  \n9     72        3          2     1                                 R$ 550.000  \n10    90        2          2     1                                 R$ 520.000  \n11   420        6          8     3  R$ 2.500.000      Preço abaixo do mercado  \n12    62        2          2     1                                 R$ 340.000  \n13    83        2          2     1                                 R$ 495.000  \n14    80        2          2     1                                 R$ 500.000  \n15    75        2          1     1                                 R$ 480.000  \n16    69        2          1     1                                 R$ 600.000  \n17    82        2          2     1                                 R$ 470.000  \n18    80        2          2     1                                 R$ 595.000  \n19   240        3          2     1    R$ 800.000      Preço abaixo do mercado  ",
      "text/html": "<div>\n<style scoped>\n    .dataframe tbody tr th:only-of-type {\n        vertical-align: middle;\n    }\n\n    .dataframe tbody tr th {\n        vertical-align: top;\n    }\n\n    .dataframe thead th {\n        text-align: right;\n    }\n</style>\n<table border=\"1\" class=\"dataframe\">\n  <thead>\n    <tr style=\"text-align: right;\">\n      <th></th>\n      <th>Unnamed: 0</th>\n      <th>Título</th>\n      <th>Endereço</th>\n      <th>Número</th>\n      <th>Bairro</th>\n      <th>Cidade</th>\n      <th>Estado</th>\n      <th>Área</th>\n      <th>Quartos</th>\n      <th>Banheiros</th>\n      <th>Vagas</th>\n      <th>Preço</th>\n    </tr>\n  </thead>\n  <tbody>\n    <tr>\n      <th>0</th>\n      <td>0</td>\n      <td>Apartamento com 4 Quartos à Venda, 191m²</td>\n      <td>Avenida Beira Mar</td>\n      <td>823</td>\n      <td>Zona Nova</td>\n      <td>Capão da Canoa</td>\n      <td>RS</td>\n      <td>191</td>\n      <td>4</td>\n      <td>4</td>\n      <td>2</td>\n      <td>R$ 1.200.000</td>\n    </tr>\n    <tr>\n      <th>1</th>\n      <td>1</td>\n      <td>Apartamento com 3 Quartos à Venda, 103m²</td>\n      <td>Avenida Venâncio Aíres</td>\n      <td>N/I</td>\n      <td>Zona Nova</td>\n      <td>Capão da Canoa</td>\n      <td>RS</td>\n      <td>103</td>\n      <td>3</td>\n      <td>3</td>\n      <td>2</td>\n      <td>R$ 795.000</td>\n    </tr>\n    <tr>\n      <th>2</th>\n      <td>2</td>\n      <td>Apartamento com  Quarto à Venda, 55m²</td>\n      <td>N/I</td>\n      <td>N/I</td>\n      <td>Capao Novo</td>\n      <td>Capão da Canoa</td>\n      <td>RS</td>\n      <td>55</td>\n      <td>1</td>\n      <td>1</td>\n      <td>1</td>\n      <td>R$ 169.500</td>\n    </tr>\n    <tr>\n      <th>3</th>\n      <td>3</td>\n      <td>Apartamento com 2 Quartos à Venda, 64m²</td>\n      <td>N/I</td>\n      <td>N/I</td>\n      <td>N/I</td>\n      <td>Capão da Canoa</td>\n      <td>RS</td>\n      <td>64</td>\n      <td>2</td>\n      <td>2</td>\n      <td>1</td>\n      <td>R$ 265.000</td>\n    </tr>\n    <tr>\n      <th>4</th>\n      <td>4</td>\n      <td>Apartamento com 3 Quartos à Venda, 171m²</td>\n      <td>Rua Guilherme Gutman</td>\n      <td>1249</td>\n      <td>Centro</td>\n      <td>Capão da Canoa</td>\n      <td>RS</td>\n      <td>171</td>\n      <td>3</td>\n      <td>3</td>\n      <td>1</td>\n      <td>R$ 850.000</td>\n    </tr>\n    <tr>\n      <th>5</th>\n      <td>5</td>\n      <td>Apartamento com  Quarto à Venda, 45m²</td>\n      <td>Rua Moacir</td>\n      <td>1989</td>\n      <td>Centro</td>\n      <td>Capão da Canoa</td>\n      <td>RS</td>\n      <td>45</td>\n      <td>1</td>\n      <td>1</td>\n      <td>1</td>\n      <td>R$ 296.000</td>\n    </tr>\n    <tr>\n      <th>6</th>\n      <td>6</td>\n      <td>Apartamento com 2 Quartos à Venda, 68m²</td>\n      <td>N/I</td>\n      <td>N/I</td>\n      <td>N/I</td>\n      <td>Capão da Canoa</td>\n      <td>RS</td>\n      <td>68</td>\n      <td>2</td>\n      <td>2</td>\n      <td>1</td>\n      <td>R$ 820.000</td>\n    </tr>\n    <tr>\n      <th>7</th>\n      <td>7</td>\n      <td>Apartamento com 2 Quartos à Venda, 98m²</td>\n      <td>Rua Marabá</td>\n      <td>N/I</td>\n      <td>Centro</td>\n      <td>Capão da Canoa</td>\n      <td>RS</td>\n      <td>98</td>\n      <td>2</td>\n      <td>2</td>\n      <td>2</td>\n      <td>R$ 450.000</td>\n    </tr>\n    <tr>\n      <th>8</th>\n      <td>8</td>\n      <td>Apartamento com 3 Quartos à Venda, 150m²</td>\n      <td>N/I</td>\n      <td>N/I</td>\n      <td>Navegantes</td>\n      <td>Capão da Canoa</td>\n      <td>RS</td>\n      <td>150</td>\n      <td>3</td>\n      <td>3</td>\n      <td>2</td>\n      <td>R$ 1.650.000</td>\n    </tr>\n    <tr>\n      <th>9</th>\n      <td>9</td>\n      <td>Apartamento com 3 Quartos à Venda, 72m²</td>\n      <td>N/I</td>\n      <td>N/I</td>\n      <td>Zona Nova</td>\n      <td>Capão da Canoa</td>\n      <td>RS</td>\n      <td>72</td>\n      <td>3</td>\n      <td>2</td>\n      <td>1</td>\n      <td>R$ 550.000</td>\n    </tr>\n    <tr>\n      <th>10</th>\n      <td>10</td>\n      <td>Apartamento com 2 Quartos à Venda, 90m²</td>\n      <td>Rua Sepé</td>\n      <td>2728</td>\n      <td>Navegantes</td>\n      <td>Capão da Canoa</td>\n      <td>RS</td>\n      <td>90</td>\n      <td>2</td>\n      <td>2</td>\n      <td>1</td>\n      <td>R$ 520.000</td>\n    </tr>\n    <tr>\n      <th>11</th>\n      <td>11</td>\n      <td>Apartamento com 6 Quartos à Venda, 420m²</td>\n      <td>Rua Guaraci</td>\n      <td>N/I</td>\n      <td>Centro</td>\n      <td>Capão da Canoa</td>\n      <td>RS</td>\n      <td>420</td>\n      <td>6</td>\n      <td>8</td>\n      <td>3</td>\n      <td>R$ 2.500.000      Preço abaixo do mercado</td>\n    </tr>\n    <tr>\n      <th>12</th>\n      <td>12</td>\n      <td>Apartamento com 2 Quartos à Venda, 62m²</td>\n      <td>N/I</td>\n      <td>N/I</td>\n      <td>Zona Nova</td>\n      <td>Capão da Canoa</td>\n      <td>RS</td>\n      <td>62</td>\n      <td>2</td>\n      <td>2</td>\n      <td>1</td>\n      <td>R$ 340.000</td>\n    </tr>\n    <tr>\n      <th>13</th>\n      <td>13</td>\n      <td>Apartamento com 2 Quartos à Venda, 83m²</td>\n      <td>Rua Moema</td>\n      <td>2393</td>\n      <td>Centro</td>\n      <td>Capão da Canoa</td>\n      <td>RS</td>\n      <td>83</td>\n      <td>2</td>\n      <td>2</td>\n      <td>1</td>\n      <td>R$ 495.000</td>\n    </tr>\n    <tr>\n      <th>14</th>\n      <td>14</td>\n      <td>Apartamento com 2 Quartos à Venda, 80m²</td>\n      <td>Rua Sepé</td>\n      <td>2460</td>\n      <td>Centro</td>\n      <td>Capão da Canoa</td>\n      <td>RS</td>\n      <td>80</td>\n      <td>2</td>\n      <td>2</td>\n      <td>1</td>\n      <td>R$ 500.000</td>\n    </tr>\n    <tr>\n      <th>15</th>\n      <td>15</td>\n      <td>Apartamento com 2 Quartos à Venda, 75m²</td>\n      <td>Rua Moacir</td>\n      <td>2115</td>\n      <td>Centro</td>\n      <td>Capão da Canoa</td>\n      <td>RS</td>\n      <td>75</td>\n      <td>2</td>\n      <td>1</td>\n      <td>1</td>\n      <td>R$ 480.000</td>\n    </tr>\n    <tr>\n      <th>16</th>\n      <td>16</td>\n      <td>Apartamento com 2 Quartos à Venda, 69m²</td>\n      <td>Rua Sepé</td>\n      <td>3030</td>\n      <td>Navegantes</td>\n      <td>Capão da Canoa</td>\n      <td>RS</td>\n      <td>69</td>\n      <td>2</td>\n      <td>1</td>\n      <td>1</td>\n      <td>R$ 600.000</td>\n    </tr>\n    <tr>\n      <th>17</th>\n      <td>17</td>\n      <td>Apartamento com 2 Quartos à Venda, 82m²</td>\n      <td>Rua Moacir</td>\n      <td>2115</td>\n      <td>Centro</td>\n      <td>Capão da Canoa</td>\n      <td>RS</td>\n      <td>82</td>\n      <td>2</td>\n      <td>2</td>\n      <td>1</td>\n      <td>R$ 470.000</td>\n    </tr>\n    <tr>\n      <th>18</th>\n      <td>18</td>\n      <td>Apartamento com 2 Quartos à Venda, 80m²</td>\n      <td>Rua Sepé</td>\n      <td>2935</td>\n      <td>Navegantes</td>\n      <td>Capão da Canoa</td>\n      <td>RS</td>\n      <td>80</td>\n      <td>2</td>\n      <td>2</td>\n      <td>1</td>\n      <td>R$ 595.000</td>\n    </tr>\n    <tr>\n      <th>19</th>\n      <td>19</td>\n      <td>Apartamento com 3 Quartos à Venda, 240m²</td>\n      <td>Avenida Neusa Goulart Brizola</td>\n      <td>276</td>\n      <td>Zona Nova</td>\n      <td>Capão da Canoa</td>\n      <td>RS</td>\n      <td>240</td>\n      <td>3</td>\n      <td>2</td>\n      <td>1</td>\n      <td>R$ 800.000      Preço abaixo do mercado</td>\n    </tr>\n  </tbody>\n</table>\n</div>"
     },
     "execution_count": 9,
     "metadata": {},
     "output_type": "execute_result"
    }
   ],
   "source": [
    "df.head(20)"
   ],
   "metadata": {
    "collapsed": false
   }
  },
  {
   "cell_type": "code",
   "execution_count": 4,
   "outputs": [
    {
     "data": {
      "text/plain": "(6168, 12)"
     },
     "execution_count": 4,
     "metadata": {},
     "output_type": "execute_result"
    }
   ],
   "source": [
    "df.shape"
   ],
   "metadata": {
    "collapsed": false
   }
  },
  {
   "cell_type": "code",
   "execution_count": 5,
   "outputs": [
    {
     "name": "stdout",
     "output_type": "stream",
     "text": [
      "<class 'pandas.core.frame.DataFrame'>\n",
      "RangeIndex: 6168 entries, 0 to 6167\n",
      "Data columns (total 12 columns):\n",
      " #   Column      Non-Null Count  Dtype \n",
      "---  ------      --------------  ----- \n",
      " 0   Unnamed: 0  6168 non-null   int64 \n",
      " 1   Título      6168 non-null   object\n",
      " 2   Endereço    6168 non-null   object\n",
      " 3   Número      6168 non-null   object\n",
      " 4   Bairro      6168 non-null   object\n",
      " 5   Cidade      6168 non-null   object\n",
      " 6   Estado      6168 non-null   object\n",
      " 7   Área        6168 non-null   int64 \n",
      " 8   Quartos     6168 non-null   int64 \n",
      " 9   Banheiros   6168 non-null   int64 \n",
      " 10  Vagas       6168 non-null   object\n",
      " 11  Preço       6168 non-null   object\n",
      "dtypes: int64(4), object(8)\n",
      "memory usage: 578.4+ KB\n"
     ]
    }
   ],
   "source": [
    "df.info()"
   ],
   "metadata": {
    "collapsed": false
   }
  },
  {
   "cell_type": "code",
   "execution_count": 6,
   "outputs": [
    {
     "data": {
      "text/plain": "Unnamed: 0    0\nTítulo        0\nEndereço      0\nNúmero        0\nBairro        0\nCidade        0\nEstado        0\nÁrea          0\nQuartos       0\nBanheiros     0\nVagas         0\nPreço         0\ndtype: int64"
     },
     "execution_count": 6,
     "metadata": {},
     "output_type": "execute_result"
    }
   ],
   "source": [
    "df.isnull().sum()"
   ],
   "metadata": {
    "collapsed": false
   }
  },
  {
   "cell_type": "code",
   "execution_count": 7,
   "outputs": [
    {
     "data": {
      "text/plain": "        Unnamed: 0         Área      Quartos    Banheiros\ncount  6168.000000  6168.000000  6168.000000  6168.000000\nmean   3083.500000    96.528534     2.260052     1.952983\nstd    1780.692562    51.622727     0.758379     0.846244\nmin       0.000000    10.000000     1.000000     1.000000\n25%    1541.750000    70.000000     2.000000     1.000000\n50%    3083.500000    89.000000     2.000000     2.000000\n75%    4625.250000   114.000000     3.000000     2.000000\nmax    6167.000000  1310.000000    12.000000    12.000000",
      "text/html": "<div>\n<style scoped>\n    .dataframe tbody tr th:only-of-type {\n        vertical-align: middle;\n    }\n\n    .dataframe tbody tr th {\n        vertical-align: top;\n    }\n\n    .dataframe thead th {\n        text-align: right;\n    }\n</style>\n<table border=\"1\" class=\"dataframe\">\n  <thead>\n    <tr style=\"text-align: right;\">\n      <th></th>\n      <th>Unnamed: 0</th>\n      <th>Área</th>\n      <th>Quartos</th>\n      <th>Banheiros</th>\n    </tr>\n  </thead>\n  <tbody>\n    <tr>\n      <th>count</th>\n      <td>6168.000000</td>\n      <td>6168.000000</td>\n      <td>6168.000000</td>\n      <td>6168.000000</td>\n    </tr>\n    <tr>\n      <th>mean</th>\n      <td>3083.500000</td>\n      <td>96.528534</td>\n      <td>2.260052</td>\n      <td>1.952983</td>\n    </tr>\n    <tr>\n      <th>std</th>\n      <td>1780.692562</td>\n      <td>51.622727</td>\n      <td>0.758379</td>\n      <td>0.846244</td>\n    </tr>\n    <tr>\n      <th>min</th>\n      <td>0.000000</td>\n      <td>10.000000</td>\n      <td>1.000000</td>\n      <td>1.000000</td>\n    </tr>\n    <tr>\n      <th>25%</th>\n      <td>1541.750000</td>\n      <td>70.000000</td>\n      <td>2.000000</td>\n      <td>1.000000</td>\n    </tr>\n    <tr>\n      <th>50%</th>\n      <td>3083.500000</td>\n      <td>89.000000</td>\n      <td>2.000000</td>\n      <td>2.000000</td>\n    </tr>\n    <tr>\n      <th>75%</th>\n      <td>4625.250000</td>\n      <td>114.000000</td>\n      <td>3.000000</td>\n      <td>2.000000</td>\n    </tr>\n    <tr>\n      <th>max</th>\n      <td>6167.000000</td>\n      <td>1310.000000</td>\n      <td>12.000000</td>\n      <td>12.000000</td>\n    </tr>\n  </tbody>\n</table>\n</div>"
     },
     "execution_count": 7,
     "metadata": {},
     "output_type": "execute_result"
    }
   ],
   "source": [
    "df.describe()"
   ],
   "metadata": {
    "collapsed": false
   }
  },
  {
   "cell_type": "code",
   "execution_count": 8,
   "outputs": [
    {
     "ename": "KeyError",
     "evalue": "'data'",
     "output_type": "error",
     "traceback": [
      "\u001B[0;31m---------------------------------------------------------------------------\u001B[0m",
      "\u001B[0;31mKeyError\u001B[0m                                  Traceback (most recent call last)",
      "File \u001B[0;32m~/Documents/Diovani/PycharmProjects/previsao_vendas_imoveis_capao/venv/lib/python3.8/site-packages/pandas/core/indexes/base.py:3803\u001B[0m, in \u001B[0;36mIndex.get_loc\u001B[0;34m(self, key, method, tolerance)\u001B[0m\n\u001B[1;32m   3802\u001B[0m \u001B[38;5;28;01mtry\u001B[39;00m:\n\u001B[0;32m-> 3803\u001B[0m     \u001B[38;5;28;01mreturn\u001B[39;00m \u001B[38;5;28;43mself\u001B[39;49m\u001B[38;5;241;43m.\u001B[39;49m\u001B[43m_engine\u001B[49m\u001B[38;5;241;43m.\u001B[39;49m\u001B[43mget_loc\u001B[49m\u001B[43m(\u001B[49m\u001B[43mcasted_key\u001B[49m\u001B[43m)\u001B[49m\n\u001B[1;32m   3804\u001B[0m \u001B[38;5;28;01mexcept\u001B[39;00m \u001B[38;5;167;01mKeyError\u001B[39;00m \u001B[38;5;28;01mas\u001B[39;00m err:\n",
      "File \u001B[0;32m~/Documents/Diovani/PycharmProjects/previsao_vendas_imoveis_capao/venv/lib/python3.8/site-packages/pandas/_libs/index.pyx:138\u001B[0m, in \u001B[0;36mpandas._libs.index.IndexEngine.get_loc\u001B[0;34m()\u001B[0m\n",
      "File \u001B[0;32m~/Documents/Diovani/PycharmProjects/previsao_vendas_imoveis_capao/venv/lib/python3.8/site-packages/pandas/_libs/index.pyx:165\u001B[0m, in \u001B[0;36mpandas._libs.index.IndexEngine.get_loc\u001B[0;34m()\u001B[0m\n",
      "File \u001B[0;32mpandas/_libs/hashtable_class_helper.pxi:5745\u001B[0m, in \u001B[0;36mpandas._libs.hashtable.PyObjectHashTable.get_item\u001B[0;34m()\u001B[0m\n",
      "File \u001B[0;32mpandas/_libs/hashtable_class_helper.pxi:5753\u001B[0m, in \u001B[0;36mpandas._libs.hashtable.PyObjectHashTable.get_item\u001B[0;34m()\u001B[0m\n",
      "\u001B[0;31mKeyError\u001B[0m: 'data'",
      "\nThe above exception was the direct cause of the following exception:\n",
      "\u001B[0;31mKeyError\u001B[0m                                  Traceback (most recent call last)",
      "Cell \u001B[0;32mIn [8], line 1\u001B[0m\n\u001B[0;32m----> 1\u001B[0m df[\u001B[38;5;124m\"\u001B[39m\u001B[38;5;124mdata\u001B[39m\u001B[38;5;124m\"\u001B[39m] \u001B[38;5;241m=\u001B[39m pd\u001B[38;5;241m.\u001B[39mto_datetime(\u001B[43mdf\u001B[49m\u001B[43m[\u001B[49m\u001B[38;5;124;43m\"\u001B[39;49m\u001B[38;5;124;43mdata\u001B[39;49m\u001B[38;5;124;43m\"\u001B[39;49m\u001B[43m]\u001B[49m)\n\u001B[1;32m      2\u001B[0m df\u001B[38;5;241m.\u001B[39mhead()\n",
      "File \u001B[0;32m~/Documents/Diovani/PycharmProjects/previsao_vendas_imoveis_capao/venv/lib/python3.8/site-packages/pandas/core/frame.py:3804\u001B[0m, in \u001B[0;36mDataFrame.__getitem__\u001B[0;34m(self, key)\u001B[0m\n\u001B[1;32m   3802\u001B[0m \u001B[38;5;28;01mif\u001B[39;00m \u001B[38;5;28mself\u001B[39m\u001B[38;5;241m.\u001B[39mcolumns\u001B[38;5;241m.\u001B[39mnlevels \u001B[38;5;241m>\u001B[39m \u001B[38;5;241m1\u001B[39m:\n\u001B[1;32m   3803\u001B[0m     \u001B[38;5;28;01mreturn\u001B[39;00m \u001B[38;5;28mself\u001B[39m\u001B[38;5;241m.\u001B[39m_getitem_multilevel(key)\n\u001B[0;32m-> 3804\u001B[0m indexer \u001B[38;5;241m=\u001B[39m \u001B[38;5;28;43mself\u001B[39;49m\u001B[38;5;241;43m.\u001B[39;49m\u001B[43mcolumns\u001B[49m\u001B[38;5;241;43m.\u001B[39;49m\u001B[43mget_loc\u001B[49m\u001B[43m(\u001B[49m\u001B[43mkey\u001B[49m\u001B[43m)\u001B[49m\n\u001B[1;32m   3805\u001B[0m \u001B[38;5;28;01mif\u001B[39;00m is_integer(indexer):\n\u001B[1;32m   3806\u001B[0m     indexer \u001B[38;5;241m=\u001B[39m [indexer]\n",
      "File \u001B[0;32m~/Documents/Diovani/PycharmProjects/previsao_vendas_imoveis_capao/venv/lib/python3.8/site-packages/pandas/core/indexes/base.py:3805\u001B[0m, in \u001B[0;36mIndex.get_loc\u001B[0;34m(self, key, method, tolerance)\u001B[0m\n\u001B[1;32m   3803\u001B[0m     \u001B[38;5;28;01mreturn\u001B[39;00m \u001B[38;5;28mself\u001B[39m\u001B[38;5;241m.\u001B[39m_engine\u001B[38;5;241m.\u001B[39mget_loc(casted_key)\n\u001B[1;32m   3804\u001B[0m \u001B[38;5;28;01mexcept\u001B[39;00m \u001B[38;5;167;01mKeyError\u001B[39;00m \u001B[38;5;28;01mas\u001B[39;00m err:\n\u001B[0;32m-> 3805\u001B[0m     \u001B[38;5;28;01mraise\u001B[39;00m \u001B[38;5;167;01mKeyError\u001B[39;00m(key) \u001B[38;5;28;01mfrom\u001B[39;00m \u001B[38;5;21;01merr\u001B[39;00m\n\u001B[1;32m   3806\u001B[0m \u001B[38;5;28;01mexcept\u001B[39;00m \u001B[38;5;167;01mTypeError\u001B[39;00m:\n\u001B[1;32m   3807\u001B[0m     \u001B[38;5;66;03m# If we have a listlike key, _check_indexing_error will raise\u001B[39;00m\n\u001B[1;32m   3808\u001B[0m     \u001B[38;5;66;03m#  InvalidIndexError. Otherwise we fall through and re-raise\u001B[39;00m\n\u001B[1;32m   3809\u001B[0m     \u001B[38;5;66;03m#  the TypeError.\u001B[39;00m\n\u001B[1;32m   3810\u001B[0m     \u001B[38;5;28mself\u001B[39m\u001B[38;5;241m.\u001B[39m_check_indexing_error(key)\n",
      "\u001B[0;31mKeyError\u001B[0m: 'data'"
     ]
    }
   ],
   "source": [
    "df[\"data\"] = pd.to_datetime(df[\"data\"])\n",
    "df.head()"
   ],
   "metadata": {
    "collapsed": false
   }
  },
  {
   "cell_type": "code",
   "execution_count": null,
   "outputs": [],
   "source": [],
   "metadata": {
    "collapsed": false
   }
  }
 ],
 "metadata": {
  "kernelspec": {
   "display_name": "Python 3",
   "language": "python",
   "name": "python3"
  },
  "language_info": {
   "codemirror_mode": {
    "name": "ipython",
    "version": 2
   },
   "file_extension": ".py",
   "mimetype": "text/x-python",
   "name": "python",
   "nbconvert_exporter": "python",
   "pygments_lexer": "ipython2",
   "version": "2.7.6"
  }
 },
 "nbformat": 4,
 "nbformat_minor": 0
}
